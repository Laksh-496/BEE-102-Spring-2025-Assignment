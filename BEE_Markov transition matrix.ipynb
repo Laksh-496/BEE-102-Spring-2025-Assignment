{
 "cells": [
  {
   "cell_type": "code",
   "execution_count": null,
   "id": "1b875c25-586c-4786-b8f7-0988fea272f8",
   "metadata": {},
   "outputs": [
    {
     "name": "stdout",
     "output_type": "stream",
     "text": [
      "Transition Matrix (Markov Model):\n",
      "    A       C       G       T\n",
      "A 0.375  0.125  0.375  0.125  \n",
      "C 0.600  0.000  0.200  0.200  \n",
      "G 0.333  0.167  0.000  0.500  \n",
      "T 0.167  0.333  0.333  0.167  \n"
     ]
    }
   ],
   "source": [
    "import numpy as np\n",
    "\n",
    "sequence = \"CTTCATGTGAAAGCAGACGTAAGTCA\"\n",
    "\n",
    "nucleotides = ['A', 'C', 'G', 'T']\n",
    "\n",
    "count_matrix = np.zeros((4, 4), dtype=int)\n",
    "\n",
    "for i in range(len(sequence) - 1):\n",
    "    current_nuc = sequence[i]\n",
    "    next_nuc = sequence[i+1]\n",
    "    row = nucleotides.index(current_nuc)\n",
    "    col = nucleotides.index(next_nuc)\n",
    "    count_matrix[row, col] += 1\n",
    "\n",
    "transition_matrix = np.zeros((4, 4))\n",
    "for i in range(4):\n",
    "    row_sum = count_matrix[i].sum()\n",
    "    if row_sum > 0:\n",
    "        transition_matrix[i] = count_matrix[i] / row_sum\n",
    "    else:\n",
    "        transition_matrix[i] = 0  \n",
    "\n",
    "print(\"Transition Matrix (Markov Model):\")\n",
    "print(\"    A       C       G       T\")\n",
    "for i in range(4):\n",
    "    print(f\"{nucleotides[i]} \", end=\"\")\n",
    "    for j in range(4):\n",
    "        print(f\"{transition_matrix[i, j]:.3f}  \", end=\"\")\n",
    "    print()"
   ]
  },
  {
   "cell_type": "code",
   "execution_count": null,
   "id": "98743bdd-4dfe-41b1-b73a-45a0e6070d70",
   "metadata": {},
   "outputs": [],
   "source": []
  }
 ],
 "metadata": {
  "kernelspec": {
   "display_name": "Python 3 (ipykernel)",
   "language": "python",
   "name": "python3"
  },
  "language_info": {
   "codemirror_mode": {
    "name": "ipython",
    "version": 3
   },
   "file_extension": ".py",
   "mimetype": "text/x-python",
   "name": "python",
   "nbconvert_exporter": "python",
   "pygments_lexer": "ipython3",
   "version": "3.12.9"
  }
 },
 "nbformat": 4,
 "nbformat_minor": 5
}
