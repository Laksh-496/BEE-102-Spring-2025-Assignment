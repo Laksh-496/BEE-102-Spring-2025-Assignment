{
 "cells": [
  {
   "cell_type": "code",
   "execution_count": 9,
   "id": "c5f74b20-3866-48de-a9eb-760b26058056",
   "metadata": {},
   "outputs": [
    {
     "name": "stdout",
     "output_type": "stream",
     "text": [
      "Log probability of the given path: -41.22\n"
     ]
    }
   ],
   "source": [
    "import math\n",
    "\n",
    "def log_safe(val):\n",
    "    return -float('inf') if val == 0 else math.log(val)\n",
    "\n",
    "def compute_log_prob(traj, obs, pi, a, b):\n",
    "    if len(traj) != len(obs):\n",
    "        raise ValueError(\"Trajectory and observation must match in length\")\n",
    "    \n",
    "    score = 0.0\n",
    "    for t in range(len(obs)):\n",
    "        state = traj[t]\n",
    "        sym = obs[t]\n",
    "        \n",
    "        if t == 0:\n",
    "            score += log_safe(pi[state])\n",
    "        else:\n",
    "            prev = traj[t - 1]\n",
    "            score += log_safe(a[prev].get(state, 0))\n",
    "        \n",
    "        score += log_safe(b[state].get(sym, 0))\n",
    "    \n",
    "    if traj[-1] == 'I' and 'end' in a['I']:\n",
    "        score += log_safe(a['I']['end'])\n",
    "    \n",
    "    return score\n",
    "\n",
    "states = ['E', '5', 'I']\n",
    "\n",
    "initial = {\n",
    "    'E': 1.0,\n",
    "    '5': 0.0,\n",
    "    'I': 0.0\n",
    "}\n",
    "\n",
    "transitions = {\n",
    "    'E': {'E': 0.9, '5': 0.1},\n",
    "    '5': {'I': 1.0},\n",
    "    'I': {'I': 0.9, 'end': 0.1}\n",
    "}\n",
    "\n",
    "emissions = {\n",
    "    'E': {'A': 0.25, 'C': 0.25, 'G': 0.25, 'T': 0.25},\n",
    "    '5': {'A': 0.05, 'C': 0.0, 'G': 0.95, 'T': 0.0},\n",
    "    'I': {'A': 0.4, 'C': 0.1, 'G': 0.1, 'T': 0.4}\n",
    "}\n",
    "\n",
    "trajectory = \"EEEEEEEEEEEEEEEEEE5IIIIIII\"\n",
    "observed = \"CTTCATGTGAAAGCAGACGTAAGTCA\"\n",
    "\n",
    "score = compute_log_prob(trajectory, observed, initial, transitions, emissions)\n",
    "print(f\"Log probability of the given path: {score:.2f}\")"
   ]
  },
  {
   "cell_type": "code",
   "execution_count": 10,
   "id": "716a1893-de68-4653-830a-fef2ea0a7309",
   "metadata": {},
   "outputs": [
    {
     "name": "stdout",
     "output_type": "stream",
     "text": [
      "Most likely path: EEEEEEEEEEEEEEEEEEEEEEEEEE\n"
     ]
    }
   ],
   "source": [
    "def viterbi(obs, states, pi, a, b):\n",
    "    T = len(obs)\n",
    "    V = [{} for _ in range(T)]\n",
    "    B = [{} for _ in range(T)]\n",
    "\n",
    "    sym = obs[0]\n",
    "    for s in states:\n",
    "        e = b[s].get(sym, 0)\n",
    "        V[0][s] = log_safe(pi[s]) + log_safe(e)\n",
    "        B[0][s] = None\n",
    "\n",
    "    for t in range(1, T):\n",
    "        sym = obs[t]\n",
    "        for curr in states:\n",
    "            e = b[curr].get(sym, 0)\n",
    "            if e == 0:\n",
    "                continue\n",
    "\n",
    "            best = -float('inf')\n",
    "            best_prev = None\n",
    "\n",
    "            for prev in states:\n",
    "                trans = a.get(prev, {}).get(curr, 0)\n",
    "                if trans > 0:\n",
    "                    score = V[t - 1].get(prev, -float('inf')) + log_safe(trans) + log_safe(e)\n",
    "                    if score > best:\n",
    "                        best = score\n",
    "                        best_prev = prev\n",
    "\n",
    "            if best_prev is not None:\n",
    "                V[t][curr] = best\n",
    "                B[t][curr] = best_prev\n",
    "\n",
    "    last = T - 1\n",
    "    final = max(V[last], key=V[last].get)\n",
    "    path = [final]\n",
    "    curr = final\n",
    "\n",
    "    for t in range(last, 0, -1):\n",
    "        prev = B[t].get(curr)\n",
    "        if prev is None:\n",
    "            break\n",
    "        path.insert(0, prev)\n",
    "        curr = prev\n",
    "\n",
    "    return ''.join(path)\n",
    "\n",
    "result = viterbi(\n",
    "    observed,\n",
    "    states,\n",
    "    initial,\n",
    "    transitions,\n",
    "    emissions\n",
    ")\n",
    "\n",
    "print(f\"Most likely path: {result}\")"
   ]
  },
  {
   "cell_type": "code",
   "execution_count": null,
   "id": "e4bde562-31fa-4746-b915-dbb79d1515a6",
   "metadata": {},
   "outputs": [],
   "source": []
  }
 ],
 "metadata": {
  "kernelspec": {
   "display_name": "Python 3 (ipykernel)",
   "language": "python",
   "name": "python3"
  },
  "language_info": {
   "codemirror_mode": {
    "name": "ipython",
    "version": 3
   },
   "file_extension": ".py",
   "mimetype": "text/x-python",
   "name": "python",
   "nbconvert_exporter": "python",
   "pygments_lexer": "ipython3",
   "version": "3.12.9"
  }
 },
 "nbformat": 4,
 "nbformat_minor": 5
}
